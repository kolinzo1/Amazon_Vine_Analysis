{
  "nbformat": 4,
  "nbformat_minor": 0,
  "metadata": {
    "colab": {
      "name": "Vine_Review_Analysis.ipynb",
      "provenance": []
    },
    "kernelspec": {
      "name": "python3",
      "display_name": "Python 3"
    },
    "language_info": {
      "name": "python"
    }
  },
  "cells": [
    {
      "cell_type": "code",
      "metadata": {
        "colab": {
          "base_uri": "https://localhost:8080/"
        },
        "id": "wPnnssIQTAR8",
        "outputId": "cc0fe88d-921d-4e89-bc5c-618b7278a2c5"
      },
      "source": [
        "import os\n",
        "# Find the latest version of spark 2.0  from http://www-us.apache.org/dist/spark/ and enter as the spark version\n",
        "# For example:\n",
        "# spark_version = 'spark-3.0.0'\n",
        "spark_version = 'spark-3.1.1'\n",
        "os.environ['SPARK_VERSION']=spark_version\n",
        "\n",
        "# Install Spark and Java\n",
        "!apt-get update\n",
        "!apt-get install openjdk-11-jdk-headless -qq > /dev/null\n",
        "!wget -q http://www-us.apache.org/dist/spark/$SPARK_VERSION/$SPARK_VERSION-bin-hadoop2.7.tgz\n",
        "!tar xf $SPARK_VERSION-bin-hadoop2.7.tgz\n",
        "!pip install -q findspark\n",
        "\n",
        "# Set Environment Variables\n",
        "import os\n",
        "os.environ[\"JAVA_HOME\"] = \"/usr/lib/jvm/java-11-openjdk-amd64\"\n",
        "os.environ[\"SPARK_HOME\"] = f\"/content/{spark_version}-bin-hadoop2.7\"\n",
        "\n",
        "# Start a SparkSession\n",
        "import findspark\n",
        "findspark.init()"
      ],
      "execution_count": 1,
      "outputs": [
        {
          "output_type": "stream",
          "text": [
            "Get:1 https://cloud.r-project.org/bin/linux/ubuntu bionic-cran40/ InRelease [3,626 B]\n",
            "Ign:2 https://developer.download.nvidia.com/compute/cuda/repos/ubuntu1804/x86_64  InRelease\n",
            "Get:3 http://security.ubuntu.com/ubuntu bionic-security InRelease [88.7 kB]\n",
            "Ign:4 https://developer.download.nvidia.com/compute/machine-learning/repos/ubuntu1804/x86_64  InRelease\n",
            "Hit:5 https://developer.download.nvidia.com/compute/cuda/repos/ubuntu1804/x86_64  Release\n",
            "Hit:6 https://developer.download.nvidia.com/compute/machine-learning/repos/ubuntu1804/x86_64  Release\n",
            "Get:7 http://ppa.launchpad.net/c2d4u.team/c2d4u4.0+/ubuntu bionic InRelease [15.9 kB]\n",
            "Get:8 https://cloud.r-project.org/bin/linux/ubuntu bionic-cran40/ Packages [52.7 kB]\n",
            "Hit:9 http://archive.ubuntu.com/ubuntu bionic InRelease\n",
            "Get:11 http://archive.ubuntu.com/ubuntu bionic-updates InRelease [88.7 kB]\n",
            "Hit:13 http://ppa.launchpad.net/cran/libgit2/ubuntu bionic InRelease\n",
            "Get:14 http://ppa.launchpad.net/deadsnakes/ppa/ubuntu bionic InRelease [15.9 kB]\n",
            "Get:15 http://archive.ubuntu.com/ubuntu bionic-backports InRelease [74.6 kB]\n",
            "Get:16 http://security.ubuntu.com/ubuntu bionic-security/universe amd64 Packages [1,402 kB]\n",
            "Hit:17 http://ppa.launchpad.net/graphics-drivers/ppa/ubuntu bionic InRelease\n",
            "Get:18 http://archive.ubuntu.com/ubuntu bionic-updates/universe amd64 Packages [2,170 kB]\n",
            "Get:19 http://ppa.launchpad.net/c2d4u.team/c2d4u4.0+/ubuntu bionic/main Sources [1,749 kB]\n",
            "Get:20 http://security.ubuntu.com/ubuntu bionic-security/main amd64 Packages [2,045 kB]\n",
            "Get:21 http://archive.ubuntu.com/ubuntu bionic-updates/main amd64 Packages [2,475 kB]\n",
            "Get:22 http://ppa.launchpad.net/c2d4u.team/c2d4u4.0+/ubuntu bionic/main amd64 Packages [895 kB]\n",
            "Get:23 http://ppa.launchpad.net/deadsnakes/ppa/ubuntu bionic/main amd64 Packages [39.5 kB]\n",
            "Fetched 11.1 MB in 7s (1,588 kB/s)\n",
            "Reading package lists... Done\n"
          ],
          "name": "stdout"
        }
      ]
    },
    {
      "cell_type": "code",
      "metadata": {
        "id": "4moFMRANTauM"
      },
      "source": [
        "from pyspark.sql import SparkSession\n",
        "spark = SparkSession.builder.appName(\"BigData-Challenge\").config(\"spark.driver.extraClassPath\",\"/content/postgresql-42.2.16.jar\").getOrCreate()"
      ],
      "execution_count": 2,
      "outputs": []
    },
    {
      "cell_type": "code",
      "metadata": {
        "colab": {
          "base_uri": "https://localhost:8080/"
        },
        "id": "IUuZfxueTlVg",
        "outputId": "84f430f4-dc0c-4edd-cd00-cc53aa48f501"
      },
      "source": [
        "from pyspark import SparkFiles\n",
        "url = \"https://s3.amazonaws.com/amazon-reviews-pds/tsv/amazon_reviews_us_Tools_v1_00.tsv.gz\"\n",
        "spark.sparkContext.addFile(url)\n",
        "df = spark.read.option(\"encoding\", \"UTF-8\").csv(SparkFiles.get(\"amazon_reviews_us_Tools_v1_00.tsv.gz\"), sep=\"\\t\", header=True, inferSchema=True)\n",
        "df.show()"
      ],
      "execution_count": 3,
      "outputs": [
        {
          "output_type": "stream",
          "text": [
            "+-----------+-----------+--------------+----------+--------------+--------------------+----------------+-----------+-------------+-----------+----+-----------------+--------------------+--------------------+-----------+\n",
            "|marketplace|customer_id|     review_id|product_id|product_parent|       product_title|product_category|star_rating|helpful_votes|total_votes|vine|verified_purchase|     review_headline|         review_body|review_date|\n",
            "+-----------+-----------+--------------+----------+--------------+--------------------+----------------+-----------+-------------+-----------+----+-----------------+--------------------+--------------------+-----------+\n",
            "|         US|   15785389|R2UM5QMHBHC90Q|B00H5U9ZD6|     115362950|WallPeg 12 sq ft ...|           Tools|          5|            0|          0|   N|                Y|Great organizer, ...|Very nice. Will o...| 2015-08-31|\n",
            "|         US|   47910848|  RF0D1LEIF6L7|B001TJGCS0|     570955425|Nite Ize Nite Daw...|           Tools|          4|            0|          0|   N|                Y|Like it, but the ...|Like it, but the ...| 2015-08-31|\n",
            "|         US|   36328996|  RM6YKIWQVNSY|B000NIK8JW|     128843593|Stanley 84-058 4 ...|           Tools|          1|            6|          6|   N|                Y|        poor quality|We were excited t...| 2015-08-31|\n",
            "|         US|   51785809|R1RL3L68ASPS36|B008ZYRGUA|     407828107|Powerextra 14.4V ...|           Tools|          4|            0|          0|   N|                Y|          Four Stars|Quick delivery. P...| 2015-08-31|\n",
            "|         US|   40757491|R1U4XFBFAG34CY|B00K5CA0GC|     490746675|Waterproof Invisi...|           Tools|          5|            0|          0|   N|                Y|          Five Stars|Quality waterproo...| 2015-08-31|\n",
            "|         US|   35544833|R3KFIK8P0I91PL|B00AIJAA94|     148352067|Crime Scene Do No...|           Tools|          5|            0|          0|   N|                Y|Excellent Decorat...|Ordered for my hu...| 2015-08-31|\n",
            "|         US|   16474909| RENOAY76PPK1O|B00JKEI6K8|     331801084|Aweek® 2 Pcs Bicy...|           Tools|          5|            0|          0|   N|                Y|          Five Stars|GREAT SELLER PROD...| 2015-08-31|\n",
            "|         US|   22601598| RINV884I0NL5V|B00AGCHVS6|     471514859|Ryobi P102 Genuin...|           Tools|          1|            0|          0|   N|                Y|Worked great for ...|My battery has di...| 2015-08-31|\n",
            "|         US|   16129808| R5KJH6CXZH2PX|B002S0O7U4|     162253576|Wiha 66995 6-Piec...|           Tools|          5|            0|          0|   N|                Y|       Great quality|Great product at ...| 2015-08-31|\n",
            "|         US|   24382335| RO69JF6QWD0W1|B0084YHXMW|      69530650|TOMTOP LED Submar...|           Tools|          5|            0|          0|   N|                Y|          Five Stars|           Excellent| 2015-08-31|\n",
            "|         US|   49796324|R3L9NQBH3FI55C|B00MLSS1SW|     916693555|Black & Decker BD...|           Tools|          4|            1|          1|   N|                Y|Really worked great!|This little sande...| 2015-08-31|\n",
            "|         US|   33289687| R4YH95YPHVU0C|B00D4WLS2A|      39333316|Crain 126 Staple ...|           Tools|          5|            0|          0|   N|                Y|         LOVE IT!!!!|This is the most ...| 2015-08-31|\n",
            "|         US|   10916386|R10M1WWDDQBGG2|B00JGCDV5Y|     550596607|Diamond Semi Roun...|           Tools|          2|            0|          0|   N|                Y|I needed to cut s...|I needed to cut s...| 2015-08-31|\n",
            "|         US|   34071500| RV3KWQBTNIO62|B00N0PS3YM|     735538025|It Mall 9 LED 375...|           Tools|          5|            1|          1|   N|                Y|   Works pretty well|Lights up small d...| 2015-08-31|\n",
            "|         US|   50594486|R1M7YUNLZI0G9F|B0000DD4KV|     506501960|IRWIN Tools Metri...|           Tools|          5|            1|          1|   N|                Y|          Five Stars|Great product for...| 2015-08-31|\n",
            "|         US|   21945887|R2MTL2D4E4HEF4|B0009H5FB8|     268586246|743022-A Backing ...|           Tools|          5|            0|          0|   N|                Y|          Five Stars|Many thanks for t...| 2015-08-31|\n",
            "|         US|   47749608| RXAHWIC1584UQ|B00NKSMPZW|     824618679|ClearArmor 141001...|           Tools|          5|           20|         23|   N|                Y|          Five Stars|geart product :) ...| 2015-08-31|\n",
            "|         US|   48880662| RMOIQFERVQDWS|B00RBAB92K|     156791442|KKmoon 9cm Mini A...|           Tools|          5|            0|          0|   N|                Y|          Five Stars|           very good| 2015-08-31|\n",
            "|         US|    4660265| R710G45MKODY9|B00QGBNZVI|     962324810|Refun E6 High Pow...|           Tools|          2|            1|          1|   N|                Y|           Two Stars|Scratches on lenses.| 2015-08-31|\n",
            "|         US|   18397238|R23ZIUGUM7TBMY|B00XXU3CDG|     543062309|Dr.meter S20 Mois...|           Tools|          1|            0|          1|   N|                Y|Don't waste your ...|It's a piece of $...| 2015-08-31|\n",
            "+-----------+-----------+--------------+----------+--------------+--------------------+----------------+-----------+-------------+-----------+----+-----------------+--------------------+--------------------+-----------+\n",
            "only showing top 20 rows\n",
            "\n"
          ],
          "name": "stdout"
        }
      ]
    },
    {
      "cell_type": "code",
      "metadata": {
        "colab": {
          "base_uri": "https://localhost:8080/"
        },
        "id": "fTkqub-dT4m1",
        "outputId": "8e9ee991-af8b-48f8-967a-3c86da675c7d"
      },
      "source": [
        "# import functions\n",
        "from pyspark.sql.functions import col\n",
        "from pyspark.sql.types import StructType,StructField, StringType, IntegerType\n",
        "# Create the vine_table. DataFrame\n",
        "df = df.withColumn(\"star_rating\", df[\"star_rating\"].cast(IntegerType()))\n",
        "vine_df = df.select([\"review_id\", \"star_rating\", \"helpful_votes\", \"total_votes\", \"vine\", \"verified_purchase\"])\n",
        "vine_df.printSchema()\n",
        "vine_df.show()"
      ],
      "execution_count": 5,
      "outputs": [
        {
          "output_type": "stream",
          "text": [
            "root\n",
            " |-- review_id: string (nullable = true)\n",
            " |-- star_rating: integer (nullable = true)\n",
            " |-- helpful_votes: integer (nullable = true)\n",
            " |-- total_votes: integer (nullable = true)\n",
            " |-- vine: string (nullable = true)\n",
            " |-- verified_purchase: string (nullable = true)\n",
            "\n",
            "+--------------+-----------+-------------+-----------+----+-----------------+\n",
            "|     review_id|star_rating|helpful_votes|total_votes|vine|verified_purchase|\n",
            "+--------------+-----------+-------------+-----------+----+-----------------+\n",
            "|R2UM5QMHBHC90Q|          5|            0|          0|   N|                Y|\n",
            "|  RF0D1LEIF6L7|          4|            0|          0|   N|                Y|\n",
            "|  RM6YKIWQVNSY|          1|            6|          6|   N|                Y|\n",
            "|R1RL3L68ASPS36|          4|            0|          0|   N|                Y|\n",
            "|R1U4XFBFAG34CY|          5|            0|          0|   N|                Y|\n",
            "|R3KFIK8P0I91PL|          5|            0|          0|   N|                Y|\n",
            "| RENOAY76PPK1O|          5|            0|          0|   N|                Y|\n",
            "| RINV884I0NL5V|          1|            0|          0|   N|                Y|\n",
            "| R5KJH6CXZH2PX|          5|            0|          0|   N|                Y|\n",
            "| RO69JF6QWD0W1|          5|            0|          0|   N|                Y|\n",
            "|R3L9NQBH3FI55C|          4|            1|          1|   N|                Y|\n",
            "| R4YH95YPHVU0C|          5|            0|          0|   N|                Y|\n",
            "|R10M1WWDDQBGG2|          2|            0|          0|   N|                Y|\n",
            "| RV3KWQBTNIO62|          5|            1|          1|   N|                Y|\n",
            "|R1M7YUNLZI0G9F|          5|            1|          1|   N|                Y|\n",
            "|R2MTL2D4E4HEF4|          5|            0|          0|   N|                Y|\n",
            "| RXAHWIC1584UQ|          5|           20|         23|   N|                Y|\n",
            "| RMOIQFERVQDWS|          5|            0|          0|   N|                Y|\n",
            "| R710G45MKODY9|          2|            1|          1|   N|                Y|\n",
            "|R23ZIUGUM7TBMY|          1|            0|          1|   N|                Y|\n",
            "+--------------+-----------+-------------+-----------+----+-----------------+\n",
            "only showing top 20 rows\n",
            "\n"
          ],
          "name": "stdout"
        }
      ]
    },
    {
      "cell_type": "code",
      "metadata": {
        "colab": {
          "base_uri": "https://localhost:8080/"
        },
        "id": "5DGRLFqWUakU",
        "outputId": "b2697a98-fc8f-4042-f994-0b09a4dd8193"
      },
      "source": [
        "# filter dataframe for high total votes\n",
        "high_votes_df = df.filter(\"total_votes>20\")\n",
        "high_votes_df.show()"
      ],
      "execution_count": 6,
      "outputs": [
        {
          "output_type": "stream",
          "text": [
            "+-----------+-----------+--------------+----------+--------------+--------------------+----------------+-----------+-------------+-----------+----+-----------------+--------------------+--------------------+-----------+\n",
            "|marketplace|customer_id|     review_id|product_id|product_parent|       product_title|product_category|star_rating|helpful_votes|total_votes|vine|verified_purchase|     review_headline|         review_body|review_date|\n",
            "+-----------+-----------+--------------+----------+--------------+--------------------+----------------+-----------+-------------+-----------+----+-----------------+--------------------+--------------------+-----------+\n",
            "|         US|   47749608| RXAHWIC1584UQ|B00NKSMPZW|     824618679|ClearArmor 141001...|           Tools|          5|           20|         23|   N|                Y|          Five Stars|geart product :) ...| 2015-08-31|\n",
            "|         US|   53082915| RSBELAIC899DO|B00LPFIPPQ|     848632692|WEN 6510 Oscillating|           Tools|          5|           46|         51|   N|                Y|Professional sand...|I don't have a lo...| 2015-08-31|\n",
            "|         US|   37584068|R2HCC4CJ59D225|B00QS9R9W4|     883778437|Skilled Crafter L...|           Tools|          4|           43|         43|   N|                Y|Happy with my pur...|Good hole puncher...| 2015-08-31|\n",
            "|         US|   11254201|R39BVCCVPRV6F5|B00NH3E95Y|     157093972|Rotorazer Multi-p...|           Tools|          5|           10|         22|   N|                Y|          Five Stars|           Fantastic| 2015-08-31|\n",
            "|         US|   36879864| RL9VF9WXHEHKR|B00F5VUS1U|     133481526|Big Horn 14350 Do...|           Tools|          5|           35|         36|   N|                Y|        Game changer|If you're looking...| 2015-08-31|\n",
            "|         US|   25655711|R1ZINLWUOLTZ46|B007NVSTCK|     543991951|DEWALT DCS380B 20...|           Tools|          1|           39|         45|   N|                N|     Dont buy dewalt|If I could, I'd g...| 2015-08-31|\n",
            "|         US|   27471798|R1CQKM1K1CHOHS|B000H12DQ6|     206229938|Bosch RA1181 Benc...|           Tools|          1|           21|         22|   N|                N|Who are these idi...|I downloaded the ...| 2015-08-31|\n",
            "|         US|   47386643|R1ZG19X1NOLCRF|B00Z804LAW|     803357065|Gino Development ...|           Tools|          5|            5|         21|   N|                Y|          Five Stars|          I like it.| 2015-08-31|\n",
            "|         US|   19888586|R1YOX5Z4GF3ZSW|B009O94W3E|     398511332|DEWALT DW088K Sel...|           Tools|          1|            1|         22|   N|                Y|            One Star|     Very dirty item| 2015-08-31|\n",
            "|         US|   16581575| R2DHAM7J1KMWN|B00XUF5D7M|     223493368|Refun SK98 900 Hi...|           Tools|          5|           23|         24|   N|                N|Excellent small f...|-Seems to be just...| 2015-08-30|\n",
            "|         US|   43989484|R2KOLBXPW57WC3|B00RCYX504|     273166219|TEKTON Socket Set...|           Tools|          1|            4|         38|   N|                N|      Made in Taiwan|I was looking to ...| 2015-08-30|\n",
            "|         US|   33677339|R26EZ2INBETPU2|B00NH3E95Y|     157093972|Rotorazer Multi-p...|           Tools|          1|          103|        128|   N|                N|    Save your money.|I tried to think ...| 2015-08-30|\n",
            "|         US|    2445253|R265ZMDO2ISN1O|B00X52TZYM|     386918330|DEWALT DCS361M1 2...|           Tools|          5|           20|         21|   N|                Y|    Great little saw|I'm very happy wi...| 2015-08-30|\n",
            "|         US|   51156831|R3NZ7JTOCPYE1S|B000WGHZYG|     380976269|10 Pack 4-1/2\" Au...|           Tools|          4|           32|         33|   N|                Y|Better than expec...|Respectable quali...| 2015-08-30|\n",
            "|         US|   50618249|R3HQQ725T45NCH|B00VAQCM0Y|     709322087|Nu Calgon 4050-08...|           Tools|          3|            9|         21|   N|                Y|         Sans Middle|Save yourself the...| 2015-08-29|\n",
            "|         US|   18881762|R15JJ5AGVSB71T|B00S9ZIEEW|     767610957|Ernst Manufacturi...|           Tools|          5|           33|         33|   N|                Y|           Organized|I bought an 87 pi...| 2015-08-29|\n",
            "|         US|   21857034|R28WDBNT2XRACG|B005IGI350|     400241559|POWERTEC PL1251 1...|           Tools|          1|           19|         24|   N|                Y|    Too Cheap for Me|Didn't expect muc...| 2015-08-29|\n",
            "|         US|   34132219|R3HP224QDFQ2SN|B00QS9R9W4|     883778437|Skilled Crafter L...|           Tools|          5|           21|         22|   N|                Y|Amazing Tool, Out...|This leather hole...| 2015-08-29|\n",
            "|         US|   43737304| RTURVI4KNPMG1|B00U0ILXGC|      27558967|Gerber Fixed Blad...|           Tools|          5|          146|        154|   N|                Y|10 out of 10 for ...|Gerber StrongArm....| 2015-08-29|\n",
            "|         US|      78935| RH2BXZ337F38J|B001I9UNWC|     431672706|GRR-RIPPER 3D Pus...|           Tools|          5|           62|         66|   N|                Y|The best push-blo...|With any tool, sa...| 2015-08-29|\n",
            "+-----------+-----------+--------------+----------+--------------+--------------------+----------------+-----------+-------------+-----------+----+-----------------+--------------------+--------------------+-----------+\n",
            "only showing top 20 rows\n",
            "\n"
          ],
          "name": "stdout"
        }
      ]
    },
    {
      "cell_type": "code",
      "metadata": {
        "colab": {
          "base_uri": "https://localhost:8080/"
        },
        "id": "16jlSI4PUsak",
        "outputId": "8fdc042c-88f6-403d-e204-414e80f09c74"
      },
      "source": [
        "# filter dataframe for high helpful votes ratio\n",
        "helpful_votes_ratio_df = high_votes_df.filter(\"(helpful_votes/total_votes)>0.5\")\n",
        "helpful_votes_ratio_df.show()"
      ],
      "execution_count": 7,
      "outputs": [
        {
          "output_type": "stream",
          "text": [
            "+-----------+-----------+--------------+----------+--------------+--------------------+----------------+-----------+-------------+-----------+----+-----------------+--------------------+--------------------+-----------+\n",
            "|marketplace|customer_id|     review_id|product_id|product_parent|       product_title|product_category|star_rating|helpful_votes|total_votes|vine|verified_purchase|     review_headline|         review_body|review_date|\n",
            "+-----------+-----------+--------------+----------+--------------+--------------------+----------------+-----------+-------------+-----------+----+-----------------+--------------------+--------------------+-----------+\n",
            "|         US|   47749608| RXAHWIC1584UQ|B00NKSMPZW|     824618679|ClearArmor 141001...|           Tools|          5|           20|         23|   N|                Y|          Five Stars|geart product :) ...| 2015-08-31|\n",
            "|         US|   53082915| RSBELAIC899DO|B00LPFIPPQ|     848632692|WEN 6510 Oscillating|           Tools|          5|           46|         51|   N|                Y|Professional sand...|I don't have a lo...| 2015-08-31|\n",
            "|         US|   37584068|R2HCC4CJ59D225|B00QS9R9W4|     883778437|Skilled Crafter L...|           Tools|          4|           43|         43|   N|                Y|Happy with my pur...|Good hole puncher...| 2015-08-31|\n",
            "|         US|   36879864| RL9VF9WXHEHKR|B00F5VUS1U|     133481526|Big Horn 14350 Do...|           Tools|          5|           35|         36|   N|                Y|        Game changer|If you're looking...| 2015-08-31|\n",
            "|         US|   25655711|R1ZINLWUOLTZ46|B007NVSTCK|     543991951|DEWALT DCS380B 20...|           Tools|          1|           39|         45|   N|                N|     Dont buy dewalt|If I could, I'd g...| 2015-08-31|\n",
            "|         US|   27471798|R1CQKM1K1CHOHS|B000H12DQ6|     206229938|Bosch RA1181 Benc...|           Tools|          1|           21|         22|   N|                N|Who are these idi...|I downloaded the ...| 2015-08-31|\n",
            "|         US|   16581575| R2DHAM7J1KMWN|B00XUF5D7M|     223493368|Refun SK98 900 Hi...|           Tools|          5|           23|         24|   N|                N|Excellent small f...|-Seems to be just...| 2015-08-30|\n",
            "|         US|   33677339|R26EZ2INBETPU2|B00NH3E95Y|     157093972|Rotorazer Multi-p...|           Tools|          1|          103|        128|   N|                N|    Save your money.|I tried to think ...| 2015-08-30|\n",
            "|         US|    2445253|R265ZMDO2ISN1O|B00X52TZYM|     386918330|DEWALT DCS361M1 2...|           Tools|          5|           20|         21|   N|                Y|    Great little saw|I'm very happy wi...| 2015-08-30|\n",
            "|         US|   51156831|R3NZ7JTOCPYE1S|B000WGHZYG|     380976269|10 Pack 4-1/2\" Au...|           Tools|          4|           32|         33|   N|                Y|Better than expec...|Respectable quali...| 2015-08-30|\n",
            "|         US|   18881762|R15JJ5AGVSB71T|B00S9ZIEEW|     767610957|Ernst Manufacturi...|           Tools|          5|           33|         33|   N|                Y|           Organized|I bought an 87 pi...| 2015-08-29|\n",
            "|         US|   21857034|R28WDBNT2XRACG|B005IGI350|     400241559|POWERTEC PL1251 1...|           Tools|          1|           19|         24|   N|                Y|    Too Cheap for Me|Didn't expect muc...| 2015-08-29|\n",
            "|         US|   34132219|R3HP224QDFQ2SN|B00QS9R9W4|     883778437|Skilled Crafter L...|           Tools|          5|           21|         22|   N|                Y|Amazing Tool, Out...|This leather hole...| 2015-08-29|\n",
            "|         US|   43737304| RTURVI4KNPMG1|B00U0ILXGC|      27558967|Gerber Fixed Blad...|           Tools|          5|          146|        154|   N|                Y|10 out of 10 for ...|Gerber StrongArm....| 2015-08-29|\n",
            "|         US|      78935| RH2BXZ337F38J|B001I9UNWC|     431672706|GRR-RIPPER 3D Pus...|           Tools|          5|           62|         66|   N|                Y|The best push-blo...|With any tool, sa...| 2015-08-29|\n",
            "|         US|   47244625|R3G8L2NRMZZHPI|B00ZZGJ852|      61900073|Padlock Picks Doo...|           Tools|          4|           23|         23|   N|                Y|Contains at least...|Generally impress...| 2015-08-29|\n",
            "|         US|   47942565|R21Q3I2ZEDSMZK|B00QZLV03O|     191744402|Nanch Precision S...|           Tools|          5|           80|         84|   N|                Y|Very well designe...|I must admit I wa...| 2015-08-29|\n",
            "|         US|    1518688|R16MXXKY0MRKZW|B00J3GRH9Y|     709251732|SKYRAY 2017 Tacti...|           Tools|          1|           48|         52|   N|                Y|DON'T make my mis...|DON'T make my mis...| 2015-08-29|\n",
            "|         US|   44128413|R121P6RES3Z7WC|B003TU0XG4|     545831295|Dremel 7300-PT 4....|           Tools|          1|          145|        162|   N|                Y|Pieces don't fit ...|So I got this out...| 2015-08-28|\n",
            "|         US|   19691221|R1ILUNGUCRZGF3|B0083R3DHO|     409382267|Azar 326043 12-In...|           Tools|          5|           21|         21|   N|                Y|Great quality pro...|Great quality pro...| 2015-08-28|\n",
            "+-----------+-----------+--------------+----------+--------------+--------------------+----------------+-----------+-------------+-----------+----+-----------------+--------------------+--------------------+-----------+\n",
            "only showing top 20 rows\n",
            "\n"
          ],
          "name": "stdout"
        }
      ]
    },
    {
      "cell_type": "code",
      "metadata": {
        "colab": {
          "base_uri": "https://localhost:8080/"
        },
        "id": "PahkChQQU0yg",
        "outputId": "82f9a2a2-804a-4f5c-e664-57d02559c48f"
      },
      "source": [
        "# filter dataframe for reviews that are part of vine program\n",
        "high_votes_vine_df = helpful_votes_ratio_df.filter(helpful_votes_ratio_df[\"vine\"]==\"Y\")\n",
        "high_votes_vine_df.show()"
      ],
      "execution_count": 8,
      "outputs": [
        {
          "output_type": "stream",
          "text": [
            "+-----------+-----------+--------------+----------+--------------+--------------------+----------------+-----------+-------------+-----------+----+-----------------+--------------------+--------------------+-----------+\n",
            "|marketplace|customer_id|     review_id|product_id|product_parent|       product_title|product_category|star_rating|helpful_votes|total_votes|vine|verified_purchase|     review_headline|         review_body|review_date|\n",
            "+-----------+-----------+--------------+----------+--------------+--------------------+----------------+-----------+-------------+-----------+----+-----------------+--------------------+--------------------+-----------+\n",
            "|         US|   21084288|R3QIQRG107AP19|B00OJ72LHK|     369815253|BLACK+DECKER BDEJ...|           Tools|          5|           38|         41|   Y|                N|Essential home ow...|We are not pros. ...| 2015-08-27|\n",
            "|         US|   52512530|R1ZNBHGCYE8VN1|B00OJ72LHK|     369815253|BLACK+DECKER BDEJ...|           Tools|          5|          175|        181|   Y|                N|Black and Decker ...|My commercial Ski...| 2015-08-25|\n",
            "|         US|   18255047|R1BNZJ9IKGRBC2|B00OJ72LHK|     369815253|BLACK+DECKER BDEJ...|           Tools|          4|           63|         70|   Y|                N|        A Good Value|I have gotten to ...| 2015-08-19|\n",
            "|         US|   35334320|R2IXTN4PBRHBO2|B00T3QBWAE|     854337170|SOG Survival Hawk...|           Tools|          5|           19|         24|   Y|                N|Absolutely Fantas...|This is an awesom...| 2015-07-20|\n",
            "|         US|   50458463|R32AOW3L09SYMQ|B00T3QBYIO|     614295243|SOG Specialty Kni...|           Tools|          5|           29|         34|   Y|                N|  Perfectly Portable|While not a full-...| 2015-07-18|\n",
            "|         US|   42689422|R34Z4VTLF7PC6X|B00T9RANUC|     724678300|FLIR Compact Ther...|           Tools|          4|           33|         36|   Y|                N|Great FLIR System...|Very easy to use ...| 2015-07-17|\n",
            "|         US|   43791073|R25403NE9JCRZZ|B00TT9X4L0|     175604994|SOG SwitchPlier 2...|           Tools|          2|           36|         40|   Y|                N|I was excited to ...|I carry a pocket ...| 2015-07-15|\n",
            "|         US|   40538153| RDUP15OURNUSA|B00T4N5Y32|     759292408|SOG Specialty Kni...|           Tools|          5|           22|         23|   Y|                N|Great knife for e...|This is my Husban...| 2015-06-24|\n",
            "|         US|   52205658|R1EI4NZTG7G14F|B00TXWJ7KA|     488279439|SOG Throwing Kniv...|           Tools|          5|           17|         23|   Y|                N|Great Gift for Ex...|These throwing kn...| 2015-06-21|\n",
            "|         US|   23094354|R2G0YB0MC67NLG|B00TXWJ7KA|     488279439|SOG Throwing Kniv...|           Tools|          5|           29|         38|   Y|                N|Absolutely Fantas...|Let's start off w...| 2015-06-20|\n",
            "|         US|   51929180| RGA1PHAE93JR2|B00SBGCXFA|     270304375|Bora 542006 WTX S...|           Tools|          1|           16|         21|   Y|                N|Plastic … Flexes ...|When you’re cutti...| 2015-06-13|\n",
            "|         US|   52554722|R3MVW880K2V5BK|B00SBGCXFA|     270304375|Bora 542006 WTX S...|           Tools|          3|           37|         46|   Y|                N|A little less tha...|[[VIDEOID:d21361a...| 2015-06-04|\n",
            "|         US|   30092914|R11JKXPSMHSZY1|B00UHNM60C|     769154216|Gallon 150 PSI Oi...|           Tools|          4|           21|         28|   Y|                N|This is a handy k...|This is a great s...| 2015-05-31|\n",
            "|         US|   53006768|  RSPSTXGY3OD8|B00VJYWRKW|     403339751|TEKTON 28301 Ever...|           Tools|          5|           29|         33|   Y|                N|Good Quality Kit ...|Tech Rescue<br />...| 2015-05-31|\n",
            "|         US|   52554722| RQO0NNMNWRLB4|B00UHNM1TI|     769154216|Gallon 150 PSI Oi...|           Tools|          3|           47|         54|   Y|                N|               RTFM?|[[VIDEOID:c3a0429...| 2015-05-26|\n",
            "|         US|   35360512|R3H5BSP5KCFHBG|B00OKGAURI|     676843495|SKILSAW SPT67WL-0...|           Tools|          4|           19|         21|   Y|                N|Read on to get an...|I am far from bei...| 2015-05-22|\n",
            "|         US|   51771760|R2AIJIWME1WDKN|B00UHNM1R0|     769154216|Gallon 150 PSI Oi...|           Tools|          5|           16|         24|   Y|                N|Great upgrade for...|[[VIDEOID:41c52b1...| 2015-05-16|\n",
            "|         US|   49956844| R585MGH89JZZ5|B00VI7WBWE|     644331624|Bosch GLM 35 Lase...|           Tools|          5|           27|         34|   Y|                N|Love Using the GL...|I recently had so...| 2015-05-10|\n",
            "|         US|   52449685|R2LMZ1WH14S7B9|B00V7UHBAY|     265596260|Delta Power Tools...|           Tools|          4|           20|         28|   Y|                N|Updated to 4 star...|I read some of th...| 2015-05-09|\n",
            "|         US|   14679257|R25IDGC3EN533B|B00VI7WBWE|     644331624|Bosch GLM 35 Lase...|           Tools|          5|           52|         54|   Y|                N|A great upgrade f...|A great upgrade f...| 2015-05-09|\n",
            "+-----------+-----------+--------------+----------+--------------+--------------------+----------------+-----------+-------------+-----------+----+-----------------+--------------------+--------------------+-----------+\n",
            "only showing top 20 rows\n",
            "\n"
          ],
          "name": "stdout"
        }
      ]
    },
    {
      "cell_type": "code",
      "metadata": {
        "colab": {
          "base_uri": "https://localhost:8080/"
        },
        "id": "a5qFsWDdVFBr",
        "outputId": "d4a8b39f-fe76-4733-ea5a-bf3e3d998334"
      },
      "source": [
        "# filter dataframe for reviews that are not part of the vine program (unpaid)\n",
        "high_votes_unpaid_df = helpful_votes_ratio_df.filter(helpful_votes_ratio_df[\"vine\"]==\"N\")\n",
        "high_votes_unpaid_df.show()"
      ],
      "execution_count": 9,
      "outputs": [
        {
          "output_type": "stream",
          "text": [
            "+-----------+-----------+--------------+----------+--------------+--------------------+----------------+-----------+-------------+-----------+----+-----------------+--------------------+--------------------+-----------+\n",
            "|marketplace|customer_id|     review_id|product_id|product_parent|       product_title|product_category|star_rating|helpful_votes|total_votes|vine|verified_purchase|     review_headline|         review_body|review_date|\n",
            "+-----------+-----------+--------------+----------+--------------+--------------------+----------------+-----------+-------------+-----------+----+-----------------+--------------------+--------------------+-----------+\n",
            "|         US|   47749608| RXAHWIC1584UQ|B00NKSMPZW|     824618679|ClearArmor 141001...|           Tools|          5|           20|         23|   N|                Y|          Five Stars|geart product :) ...| 2015-08-31|\n",
            "|         US|   53082915| RSBELAIC899DO|B00LPFIPPQ|     848632692|WEN 6510 Oscillating|           Tools|          5|           46|         51|   N|                Y|Professional sand...|I don't have a lo...| 2015-08-31|\n",
            "|         US|   37584068|R2HCC4CJ59D225|B00QS9R9W4|     883778437|Skilled Crafter L...|           Tools|          4|           43|         43|   N|                Y|Happy with my pur...|Good hole puncher...| 2015-08-31|\n",
            "|         US|   36879864| RL9VF9WXHEHKR|B00F5VUS1U|     133481526|Big Horn 14350 Do...|           Tools|          5|           35|         36|   N|                Y|        Game changer|If you're looking...| 2015-08-31|\n",
            "|         US|   25655711|R1ZINLWUOLTZ46|B007NVSTCK|     543991951|DEWALT DCS380B 20...|           Tools|          1|           39|         45|   N|                N|     Dont buy dewalt|If I could, I'd g...| 2015-08-31|\n",
            "|         US|   27471798|R1CQKM1K1CHOHS|B000H12DQ6|     206229938|Bosch RA1181 Benc...|           Tools|          1|           21|         22|   N|                N|Who are these idi...|I downloaded the ...| 2015-08-31|\n",
            "|         US|   16581575| R2DHAM7J1KMWN|B00XUF5D7M|     223493368|Refun SK98 900 Hi...|           Tools|          5|           23|         24|   N|                N|Excellent small f...|-Seems to be just...| 2015-08-30|\n",
            "|         US|   33677339|R26EZ2INBETPU2|B00NH3E95Y|     157093972|Rotorazer Multi-p...|           Tools|          1|          103|        128|   N|                N|    Save your money.|I tried to think ...| 2015-08-30|\n",
            "|         US|    2445253|R265ZMDO2ISN1O|B00X52TZYM|     386918330|DEWALT DCS361M1 2...|           Tools|          5|           20|         21|   N|                Y|    Great little saw|I'm very happy wi...| 2015-08-30|\n",
            "|         US|   51156831|R3NZ7JTOCPYE1S|B000WGHZYG|     380976269|10 Pack 4-1/2\" Au...|           Tools|          4|           32|         33|   N|                Y|Better than expec...|Respectable quali...| 2015-08-30|\n",
            "|         US|   18881762|R15JJ5AGVSB71T|B00S9ZIEEW|     767610957|Ernst Manufacturi...|           Tools|          5|           33|         33|   N|                Y|           Organized|I bought an 87 pi...| 2015-08-29|\n",
            "|         US|   21857034|R28WDBNT2XRACG|B005IGI350|     400241559|POWERTEC PL1251 1...|           Tools|          1|           19|         24|   N|                Y|    Too Cheap for Me|Didn't expect muc...| 2015-08-29|\n",
            "|         US|   34132219|R3HP224QDFQ2SN|B00QS9R9W4|     883778437|Skilled Crafter L...|           Tools|          5|           21|         22|   N|                Y|Amazing Tool, Out...|This leather hole...| 2015-08-29|\n",
            "|         US|   43737304| RTURVI4KNPMG1|B00U0ILXGC|      27558967|Gerber Fixed Blad...|           Tools|          5|          146|        154|   N|                Y|10 out of 10 for ...|Gerber StrongArm....| 2015-08-29|\n",
            "|         US|      78935| RH2BXZ337F38J|B001I9UNWC|     431672706|GRR-RIPPER 3D Pus...|           Tools|          5|           62|         66|   N|                Y|The best push-blo...|With any tool, sa...| 2015-08-29|\n",
            "|         US|   47244625|R3G8L2NRMZZHPI|B00ZZGJ852|      61900073|Padlock Picks Doo...|           Tools|          4|           23|         23|   N|                Y|Contains at least...|Generally impress...| 2015-08-29|\n",
            "|         US|   47942565|R21Q3I2ZEDSMZK|B00QZLV03O|     191744402|Nanch Precision S...|           Tools|          5|           80|         84|   N|                Y|Very well designe...|I must admit I wa...| 2015-08-29|\n",
            "|         US|    1518688|R16MXXKY0MRKZW|B00J3GRH9Y|     709251732|SKYRAY 2017 Tacti...|           Tools|          1|           48|         52|   N|                Y|DON'T make my mis...|DON'T make my mis...| 2015-08-29|\n",
            "|         US|   44128413|R121P6RES3Z7WC|B003TU0XG4|     545831295|Dremel 7300-PT 4....|           Tools|          1|          145|        162|   N|                Y|Pieces don't fit ...|So I got this out...| 2015-08-28|\n",
            "|         US|   19691221|R1ILUNGUCRZGF3|B0083R3DHO|     409382267|Azar 326043 12-In...|           Tools|          5|           21|         21|   N|                Y|Great quality pro...|Great quality pro...| 2015-08-28|\n",
            "+-----------+-----------+--------------+----------+--------------+--------------------+----------------+-----------+-------------+-----------+----+-----------------+--------------------+--------------------+-----------+\n",
            "only showing top 20 rows\n",
            "\n"
          ],
          "name": "stdout"
        }
      ]
    },
    {
      "cell_type": "code",
      "metadata": {
        "colab": {
          "base_uri": "https://localhost:8080/"
        },
        "id": "BBLqEEECVIou",
        "outputId": "6b8332f6-9d2c-4ed4-a2e4-03ba0f911458"
      },
      "source": [
        "num_of_paid_reviews = high_votes_vine_df.agg({\"star_rating\":\"count\"}).withColumnRenamed(\"count(star_rating)\", \"num_of_paid_reviews\")\n",
        "num_of_paid_reviews.show()\n",
        "num_of_paid_5star = high_votes_vine_df.filter(\"star_rating==5\").agg({\"star_rating\":\"count\"}).withColumnRenamed(\"count(star_rating)\", \"num_of_paid_5Stars\")\n",
        "num_of_paid_5star.show()\n"
      ],
      "execution_count": 10,
      "outputs": [
        {
          "output_type": "stream",
          "text": [
            "+-------------------+\n",
            "|num_of_paid_reviews|\n",
            "+-------------------+\n",
            "|                268|\n",
            "+-------------------+\n",
            "\n",
            "+------------------+\n",
            "|num_of_paid_5Stars|\n",
            "+------------------+\n",
            "|               149|\n",
            "+------------------+\n",
            "\n"
          ],
          "name": "stdout"
        }
      ]
    },
    {
      "cell_type": "code",
      "metadata": {
        "colab": {
          "base_uri": "https://localhost:8080/"
        },
        "id": "dyI_IorVVcq3",
        "outputId": "29014595-12b5-40cc-a6d6-e3b42a09d1e8"
      },
      "source": [
        "percent_paid_5stars = 149/268 * 100\n",
        "print(percent_paid_5stars)"
      ],
      "execution_count": 11,
      "outputs": [
        {
          "output_type": "stream",
          "text": [
            "55.59701492537313\n"
          ],
          "name": "stdout"
        }
      ]
    },
    {
      "cell_type": "code",
      "metadata": {
        "colab": {
          "base_uri": "https://localhost:8080/"
        },
        "id": "nNjn6MV9VgVV",
        "outputId": "f4fef81d-a708-43e5-8cb6-c5910ed09edf"
      },
      "source": [
        "num_of_unpaid_reviews = high_votes_unpaid_df.agg({\"star_rating\":\"count\"}).withColumnRenamed(\"count(star_rating)\", \"num_of_unpaid_reviews\")\n",
        "num_of_unpaid_reviews.show()\n",
        "num_of_unpaid_5star = high_votes_unpaid_df.filter(\"star_rating==5\").agg({\"star_rating\":\"count\"}).withColumnRenamed(\"count(star_rating)\", \"num_of_unpaid_5Stars\")\n",
        "num_of_unpaid_5star.show()"
      ],
      "execution_count": 12,
      "outputs": [
        {
          "output_type": "stream",
          "text": [
            "+---------------------+\n",
            "|num_of_unpaid_reviews|\n",
            "+---------------------+\n",
            "|                29452|\n",
            "+---------------------+\n",
            "\n",
            "+--------------------+\n",
            "|num_of_unpaid_5Stars|\n",
            "+--------------------+\n",
            "|               13668|\n",
            "+--------------------+\n",
            "\n"
          ],
          "name": "stdout"
        }
      ]
    },
    {
      "cell_type": "code",
      "metadata": {
        "colab": {
          "base_uri": "https://localhost:8080/"
        },
        "id": "SUYPkYLYV08m",
        "outputId": "7f75c2e5-173d-451d-f03a-fdc583d09fd0"
      },
      "source": [
        "percent_unpaid_5stars = 13668/29452 * 100\n",
        "print(percent_unpaid_5stars)"
      ],
      "execution_count": 13,
      "outputs": [
        {
          "output_type": "stream",
          "text": [
            "46.407714246910224\n"
          ],
          "name": "stdout"
        }
      ]
    }
  ]
}